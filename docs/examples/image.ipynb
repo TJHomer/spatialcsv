{
 "cells": [
  {
   "cell_type": "markdown",
   "id": "529f8f20",
   "metadata": {},
   "source": [
    "[![image](https://colab.research.google.com/assets/colab-badge.svg)](https://colab.research.google.com/github/TJHomer/spatialcsv/blob/main/docs/examples/example.ipynb)"
   ]
  },
  {
   "cell_type": "code",
   "execution_count": 21,
   "id": "25d51eab",
   "metadata": {},
   "outputs": [
    {
     "data": {
      "application/vnd.jupyter.widget-view+json": {
       "model_id": "970045dbe3414cacac54161a07dfccec",
       "version_major": 2,
       "version_minor": 0
      },
      "text/plain": [
       "Map(center=[20, 0], controls=(ZoomControl(options=['position', 'zoom_in_text', 'zoom_in_title', 'zoom_out_text…"
      ]
     },
     "metadata": {},
     "output_type": "display_data"
    }
   ],
   "source": [
    "from spatialcsv import Map\n",
    "import ipywidgets as w\n",
    "from ipyleaflet import WidgetControl\n",
    "\n",
    "m = Map()\n",
    "m.add_basemap('CartoDB.Positron')\n",
    "\n",
    "path = 'sample_data/utk.png'\n",
    "\n",
    "\n",
    "file = open(path, \"rb\")\n",
    "image = file.read()\n",
    "im = w.Image(\n",
    "    value=image,\n",
    "    format='png',\n",
    "    width=300,\n",
    "    height=400,\n",
    ")\n",
    "\n",
    "\n",
    "#m.add_image(path, w=500, h=500)\n",
    "\n",
    "m\n",
    "output_widget = w.Output()\n",
    "output_control = WidgetControl(widget=output_widget, position='bottomright')\n",
    "m.add_control(output_control)\n",
    "with output_widget:\n",
    "    display(im)\n",
    "    \n",
    "m"
   ]
  },
  {
   "cell_type": "code",
   "execution_count": null,
   "id": "ad5b4d82",
   "metadata": {},
   "outputs": [],
   "source": [
    "\n"
   ]
  },
  {
   "cell_type": "code",
   "execution_count": null,
   "id": "dad9e249",
   "metadata": {},
   "outputs": [],
   "source": []
  }
 ],
 "metadata": {
  "kernelspec": {
   "display_name": "Python 3 (ipykernel)",
   "language": "python",
   "name": "python3"
  },
  "language_info": {
   "codemirror_mode": {
    "name": "ipython",
    "version": 3
   },
   "file_extension": ".py",
   "mimetype": "text/x-python",
   "name": "python",
   "nbconvert_exporter": "python",
   "pygments_lexer": "ipython3",
   "version": "3.10.10"
  },
  "vscode": {
   "interpreter": {
    "hash": "c2786f5450630d62621dab2780bf4d7cfcd05a468382f1c6605774491fd1605b"
   }
  }
 },
 "nbformat": 4,
 "nbformat_minor": 5
}
