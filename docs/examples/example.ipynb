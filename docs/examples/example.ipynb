{
 "cells": [
  {
   "cell_type": "markdown",
   "id": "529f8f20",
   "metadata": {},
   "source": [
    "[![image](https://colab.research.google.com/assets/colab-badge.svg)](https://colab.research.google.com/github/TJHomer/spatialcsv/blob/main/docs/examples/example.ipynb)"
   ]
  },
  {
   "cell_type": "code",
   "execution_count": 40,
   "id": "4018da29",
   "metadata": {},
   "outputs": [],
   "source": [
    "# Uncomment to install\n",
    "#!pip install leafmap spatialcsv\n",
    "\n",
    "import leafmap\n",
    "import spatialcsv\n",
    "import requests\n",
    "\n",
    "# This function will allow us to preview the csv before processing\n",
    "def preview(url):\n",
    "    response = requests.get(url)\n",
    "    for line in response.text.splitlines()[:4]:\n",
    "        print(line)\n",
    "    "
   ]
  },
  {
   "cell_type": "markdown",
   "id": "ef56e1ba",
   "metadata": {},
   "source": [
    "This package takes csv files and standardizes them for web mapping.\n",
    "It will automatically change coordidantes from degree,minute format to decimal.\n",
    "\n",
    "If using streamlit, it will change the column headers to what streamlit uses, and remove any empty coordinate fields (which causes streamlit to error out).\n",
    "To view in streamlit, go to https://spatialcsv.streamlit.app/\n",
    "\n",
    "If using leafmap, you can add the following arguments:\n",
    "* tags = [ ] \n",
    "    Will select what columns are included in the pin popup\n",
    "* epsg = '####' \n",
    "    Will reproject from given crs to lat/long coordinates\n",
    "\n",
    "If you don't want to use a web map, but only want to convert all the coordinates, there is also a function `updated_csv()` that will export it back to an csv file."
   ]
  },
  {
   "cell_type": "markdown",
   "id": "9067258d",
   "metadata": {},
   "source": [
    "# Basic Example"
   ]
  },
  {
   "cell_type": "code",
   "execution_count": 41,
   "id": "7a685e4b",
   "metadata": {},
   "outputs": [
    {
     "name": "stdout",
     "output_type": "stream",
     "text": [
      "City,State,lat,long\n",
      "Arizona,Phoenix,33.448143,-112.096962\n",
      "Arkansas,Little Rock,34.746613,-92.288986\n",
      "California,Sacramento,38.576668,-121.493629\n"
     ]
    }
   ],
   "source": [
    "m1 = leafmap.Map()\n",
    "fp1 = 'https://github.com/TJHomer/spatialcsv/raw/main/spatialcsv/example_files/test.csv'\n",
    "preview(fp1)"
   ]
  },
  {
   "cell_type": "code",
   "execution_count": 2,
   "id": "8ecbd110",
   "metadata": {},
   "outputs": [
    {
     "data": {
      "text/html": [
       "<div>\n",
       "<style scoped>\n",
       "    .dataframe tbody tr th:only-of-type {\n",
       "        vertical-align: middle;\n",
       "    }\n",
       "\n",
       "    .dataframe tbody tr th {\n",
       "        vertical-align: top;\n",
       "    }\n",
       "\n",
       "    .dataframe thead th {\n",
       "        text-align: right;\n",
       "    }\n",
       "</style>\n",
       "<table border=\"1\" class=\"dataframe\">\n",
       "  <thead>\n",
       "    <tr style=\"text-align: right;\">\n",
       "      <th></th>\n",
       "      <th>City</th>\n",
       "      <th>State</th>\n",
       "      <th>lat</th>\n",
       "      <th>long</th>\n",
       "    </tr>\n",
       "  </thead>\n",
       "  <tbody>\n",
       "    <tr>\n",
       "      <th>0</th>\n",
       "      <td>Arizona</td>\n",
       "      <td>Phoenix</td>\n",
       "      <td>33.448143</td>\n",
       "      <td>-112.096962</td>\n",
       "    </tr>\n",
       "    <tr>\n",
       "      <th>1</th>\n",
       "      <td>Arkansas</td>\n",
       "      <td>Little Rock</td>\n",
       "      <td>34.746613</td>\n",
       "      <td>-92.288986</td>\n",
       "    </tr>\n",
       "    <tr>\n",
       "      <th>2</th>\n",
       "      <td>California</td>\n",
       "      <td>Sacramento</td>\n",
       "      <td>38.576668</td>\n",
       "      <td>-121.493629</td>\n",
       "    </tr>\n",
       "    <tr>\n",
       "      <th>3</th>\n",
       "      <td>Colorado</td>\n",
       "      <td>Denver</td>\n",
       "      <td>39.739227</td>\n",
       "      <td>-104.984856</td>\n",
       "    </tr>\n",
       "    <tr>\n",
       "      <th>4</th>\n",
       "      <td>Connecticut</td>\n",
       "      <td>Hartford&lt;br&gt;</td>\n",
       "      <td>41.764046</td>\n",
       "      <td>-72.682198</td>\n",
       "    </tr>\n",
       "  </tbody>\n",
       "</table>\n",
       "</div>"
      ],
      "text/plain": [
       "          City         State        lat        long\n",
       "0      Arizona       Phoenix  33.448143 -112.096962\n",
       "1     Arkansas   Little Rock  34.746613  -92.288986\n",
       "2   California    Sacramento  38.576668 -121.493629\n",
       "3     Colorado        Denver  39.739227 -104.984856\n",
       "4  Connecticut  Hartford<br>  41.764046  -72.682198"
      ]
     },
     "execution_count": 2,
     "metadata": {},
     "output_type": "execute_result"
    }
   ],
   "source": [
    "points1 = spatialcsv.Points(fp1, ['lat', 'long'])\n",
    "points1.df.head()"
   ]
  },
  {
   "cell_type": "code",
   "execution_count": 3,
   "id": "92ccc4b9",
   "metadata": {},
   "outputs": [
    {
     "data": {
      "application/vnd.jupyter.widget-view+json": {
       "model_id": "f12354b67fe74ad781a9679d475d6bbb",
       "version_major": 2,
       "version_minor": 0
      },
      "text/plain": [
       "Map(center=[20, 0], controls=(ZoomControl(options=['position', 'zoom_in_text', 'zoom_in_title', 'zoom_out_text…"
      ]
     },
     "metadata": {},
     "output_type": "display_data"
    }
   ],
   "source": [
    "data1 = points1.to_leafmap()\n",
    "m1.add_points_from_xy(data1, x='long', y='lat')\n",
    "m1"
   ]
  },
  {
   "cell_type": "markdown",
   "id": "7ddc527c",
   "metadata": {},
   "source": [
    "# Example changing from degree to decimal format"
   ]
  },
  {
   "cell_type": "code",
   "execution_count": 42,
   "id": "61b626cc",
   "metadata": {},
   "outputs": [
    {
     "name": "stdout",
     "output_type": "stream",
     "text": [
      "State Capital,lat,long\n",
      "Tallahassee,30°27'N, 84°16'W\n",
      "Raleigh,35°46'N, 78°39'W\n",
      "Austin,30°14'N, 97°45'W\n"
     ]
    }
   ],
   "source": [
    "m2 = leafmap.Map()\n",
    "fp2 = 'https://github.com/TJHomer/spatialcsv/raw/main/spatialcsv/example_files/dms.csv'\n",
    "preview(fp2)"
   ]
  },
  {
   "cell_type": "code",
   "execution_count": 43,
   "id": "a5c9b03e",
   "metadata": {},
   "outputs": [
    {
     "data": {
      "text/html": [
       "<div>\n",
       "<style scoped>\n",
       "    .dataframe tbody tr th:only-of-type {\n",
       "        vertical-align: middle;\n",
       "    }\n",
       "\n",
       "    .dataframe tbody tr th {\n",
       "        vertical-align: top;\n",
       "    }\n",
       "\n",
       "    .dataframe thead th {\n",
       "        text-align: right;\n",
       "    }\n",
       "</style>\n",
       "<table border=\"1\" class=\"dataframe\">\n",
       "  <thead>\n",
       "    <tr style=\"text-align: right;\">\n",
       "      <th></th>\n",
       "      <th>State Capital</th>\n",
       "      <th>lat</th>\n",
       "      <th>long</th>\n",
       "    </tr>\n",
       "  </thead>\n",
       "  <tbody>\n",
       "    <tr>\n",
       "      <th>0</th>\n",
       "      <td>Tallahassee</td>\n",
       "      <td>30.450000</td>\n",
       "      <td>-84.266667</td>\n",
       "    </tr>\n",
       "    <tr>\n",
       "      <th>1</th>\n",
       "      <td>Raleigh</td>\n",
       "      <td>35.766667</td>\n",
       "      <td>-78.650000</td>\n",
       "    </tr>\n",
       "    <tr>\n",
       "      <th>2</th>\n",
       "      <td>Austin</td>\n",
       "      <td>30.233333</td>\n",
       "      <td>-97.750000</td>\n",
       "    </tr>\n",
       "    <tr>\n",
       "      <th>3</th>\n",
       "      <td>Sacramento</td>\n",
       "      <td>38.900000</td>\n",
       "      <td>-121.483333</td>\n",
       "    </tr>\n",
       "    <tr>\n",
       "      <th>4</th>\n",
       "      <td>Richmond</td>\n",
       "      <td>37.533333</td>\n",
       "      <td>-77.450000</td>\n",
       "    </tr>\n",
       "  </tbody>\n",
       "</table>\n",
       "</div>"
      ],
      "text/plain": [
       "  State Capital        lat        long\n",
       "0   Tallahassee  30.450000  -84.266667\n",
       "1       Raleigh  35.766667  -78.650000\n",
       "2        Austin  30.233333  -97.750000\n",
       "3    Sacramento  38.900000 -121.483333\n",
       "4      Richmond  37.533333  -77.450000"
      ]
     },
     "execution_count": 43,
     "metadata": {},
     "output_type": "execute_result"
    }
   ],
   "source": [
    "points2 = spatialcsv.Points(fp2, ['lat', 'long'])\n",
    "points2.df.head()"
   ]
  },
  {
   "cell_type": "code",
   "execution_count": 5,
   "id": "79224c64",
   "metadata": {},
   "outputs": [
    {
     "data": {
      "application/vnd.jupyter.widget-view+json": {
       "model_id": "d4663064113547628ab72e08189c5a77",
       "version_major": 2,
       "version_minor": 0
      },
      "text/plain": [
       "Map(center=[20, 0], controls=(ZoomControl(options=['position', 'zoom_in_text', 'zoom_in_title', 'zoom_out_text…"
      ]
     },
     "metadata": {},
     "output_type": "display_data"
    }
   ],
   "source": [
    "data2 = points2.to_leafmap()\n",
    "m2.add_points_from_xy(data2, x='long', y='lat')\n",
    "m2"
   ]
  },
  {
   "cell_type": "markdown",
   "id": "683ca074",
   "metadata": {},
   "source": [
    "# Example changing projection"
   ]
  },
  {
   "cell_type": "code",
   "execution_count": 44,
   "id": "4eb9e195",
   "metadata": {},
   "outputs": [
    {
     "name": "stdout",
     "output_type": "stream",
     "text": [
      "ObjectID,X,Y,School,City,GradeLevels\n",
      "1,767637.23167577,315674.50617952,1ST CLASS MONTESSORI - MEMPHIS,Memphis,\"PK,K\"\n",
      "2,828609.47361461,327549.00838232,1ST CLASS MONTESSORI SCHOOL - CORDOVA,Cordova,\"PK,K,1,2,3\"\n",
      "3,757231.10957349,307890.57621781,A B HILL ELEMENTARY,Memphis,\"PK,K,1,2,3,4,5\"\n"
     ]
    }
   ],
   "source": [
    "m3 = leafmap.Map()\n",
    "fp3 = 'https://github.com/TJHomer/spatialcsv/raw/main/spatialcsv/example_files/projected_2274.csv'\n",
    "preview(fp3)"
   ]
  },
  {
   "cell_type": "code",
   "execution_count": 45,
   "id": "9fd75c00",
   "metadata": {},
   "outputs": [
    {
     "data": {
      "text/html": [
       "<div>\n",
       "<style scoped>\n",
       "    .dataframe tbody tr th:only-of-type {\n",
       "        vertical-align: middle;\n",
       "    }\n",
       "\n",
       "    .dataframe tbody tr th {\n",
       "        vertical-align: top;\n",
       "    }\n",
       "\n",
       "    .dataframe thead th {\n",
       "        text-align: right;\n",
       "    }\n",
       "</style>\n",
       "<table border=\"1\" class=\"dataframe\">\n",
       "  <thead>\n",
       "    <tr style=\"text-align: right;\">\n",
       "      <th></th>\n",
       "      <th>ObjectID</th>\n",
       "      <th>X</th>\n",
       "      <th>Y</th>\n",
       "      <th>School</th>\n",
       "      <th>City</th>\n",
       "      <th>GradeLevels</th>\n",
       "    </tr>\n",
       "  </thead>\n",
       "  <tbody>\n",
       "    <tr>\n",
       "      <th>0</th>\n",
       "      <td>1</td>\n",
       "      <td>35.132828</td>\n",
       "      <td>-90.017079</td>\n",
       "      <td>1ST CLASS MONTESSORI - MEMPHIS</td>\n",
       "      <td>Memphis</td>\n",
       "      <td>PK,K</td>\n",
       "    </tr>\n",
       "    <tr>\n",
       "      <th>1</th>\n",
       "      <td>2</td>\n",
       "      <td>35.172125</td>\n",
       "      <td>-89.814876</td>\n",
       "      <td>1ST CLASS MONTESSORI SCHOOL - CORDOVA</td>\n",
       "      <td>Cordova</td>\n",
       "      <td>PK,K,1,2,3</td>\n",
       "    </tr>\n",
       "    <tr>\n",
       "      <th>2</th>\n",
       "      <td>3</td>\n",
       "      <td>35.110283</td>\n",
       "      <td>-90.050772</td>\n",
       "      <td>A B HILL ELEMENTARY</td>\n",
       "      <td>Memphis</td>\n",
       "      <td>PK,K,1,2,3,4,5</td>\n",
       "    </tr>\n",
       "    <tr>\n",
       "      <th>3</th>\n",
       "      <td>4</td>\n",
       "      <td>36.387252</td>\n",
       "      <td>-85.319641</td>\n",
       "      <td>A H ROBERTS ELEMENTARY</td>\n",
       "      <td>Livingston</td>\n",
       "      <td>PK,K,1,2,3,4</td>\n",
       "    </tr>\n",
       "    <tr>\n",
       "      <th>4</th>\n",
       "      <td>5</td>\n",
       "      <td>35.882628</td>\n",
       "      <td>-84.083299</td>\n",
       "      <td>A L LOTTS ELEMENTARY</td>\n",
       "      <td>Knoxville</td>\n",
       "      <td>K,1,2,3,4,5</td>\n",
       "    </tr>\n",
       "  </tbody>\n",
       "</table>\n",
       "</div>"
      ],
      "text/plain": [
       "   ObjectID          X          Y                                 School  \\\n",
       "0         1  35.132828 -90.017079         1ST CLASS MONTESSORI - MEMPHIS   \n",
       "1         2  35.172125 -89.814876  1ST CLASS MONTESSORI SCHOOL - CORDOVA   \n",
       "2         3  35.110283 -90.050772                    A B HILL ELEMENTARY   \n",
       "3         4  36.387252 -85.319641                 A H ROBERTS ELEMENTARY   \n",
       "4         5  35.882628 -84.083299                   A L LOTTS ELEMENTARY   \n",
       "\n",
       "         City     GradeLevels  \n",
       "0     Memphis            PK,K  \n",
       "1     Cordova      PK,K,1,2,3  \n",
       "2     Memphis  PK,K,1,2,3,4,5  \n",
       "3  Livingston    PK,K,1,2,3,4  \n",
       "4   Knoxville     K,1,2,3,4,5  "
      ]
     },
     "execution_count": 45,
     "metadata": {},
     "output_type": "execute_result"
    }
   ],
   "source": [
    "points3 = spatialcsv.Points(fp3, ['X', 'Y'], epsg='2274')\n",
    "points3.df.head()"
   ]
  },
  {
   "cell_type": "code",
   "execution_count": 7,
   "id": "25fa0478",
   "metadata": {},
   "outputs": [
    {
     "data": {
      "application/vnd.jupyter.widget-view+json": {
       "model_id": "30e5cfae532e4fadbf58f459344b12c7",
       "version_major": 2,
       "version_minor": 0
      },
      "text/plain": [
       "Map(center=[20, 0], controls=(ZoomControl(options=['position', 'zoom_in_text', 'zoom_in_title', 'zoom_out_text…"
      ]
     },
     "metadata": {},
     "output_type": "display_data"
    }
   ],
   "source": [
    "data3 = points3.to_leafmap()\n",
    "m3.add_points_from_xy(data3, x='Y', y='X')\n",
    "m3"
   ]
  },
  {
   "cell_type": "markdown",
   "id": "c4a594f9",
   "metadata": {},
   "source": [
    "# Example assigning tags"
   ]
  },
  {
   "cell_type": "code",
   "execution_count": 46,
   "id": "e300a969",
   "metadata": {},
   "outputs": [
    {
     "name": "stdout",
     "output_type": "stream",
     "text": [
      "name,sov_a3,latitude,longitude,pop_max,region\n",
      "San Bernardino,USA,34.12038,-117.30003,1745000,West\n",
      "Bridgeport,USA,41.17998,-73.19996,1018000,Northeast\n",
      "Rochester,USA,43.17043,-77.61995,755000,Northeast\n"
     ]
    }
   ],
   "source": [
    "m4 = leafmap.Map()\n",
    "fp4 = 'https://github.com/TJHomer/spatialcsv/raw/main/spatialcsv/example_files/tags.csv'\n",
    "preview(fp4)"
   ]
  },
  {
   "cell_type": "code",
   "execution_count": 47,
   "id": "85388eca",
   "metadata": {},
   "outputs": [
    {
     "data": {
      "text/html": [
       "<div>\n",
       "<style scoped>\n",
       "    .dataframe tbody tr th:only-of-type {\n",
       "        vertical-align: middle;\n",
       "    }\n",
       "\n",
       "    .dataframe tbody tr th {\n",
       "        vertical-align: top;\n",
       "    }\n",
       "\n",
       "    .dataframe thead th {\n",
       "        text-align: right;\n",
       "    }\n",
       "</style>\n",
       "<table border=\"1\" class=\"dataframe\">\n",
       "  <thead>\n",
       "    <tr style=\"text-align: right;\">\n",
       "      <th></th>\n",
       "      <th>name</th>\n",
       "      <th>sov_a3</th>\n",
       "      <th>latitude</th>\n",
       "      <th>longitude</th>\n",
       "      <th>pop_max</th>\n",
       "      <th>region</th>\n",
       "    </tr>\n",
       "  </thead>\n",
       "  <tbody>\n",
       "    <tr>\n",
       "      <th>0</th>\n",
       "      <td>San Bernardino</td>\n",
       "      <td>USA</td>\n",
       "      <td>34.12038</td>\n",
       "      <td>-117.30003</td>\n",
       "      <td>1745000</td>\n",
       "      <td>West</td>\n",
       "    </tr>\n",
       "    <tr>\n",
       "      <th>1</th>\n",
       "      <td>Bridgeport</td>\n",
       "      <td>USA</td>\n",
       "      <td>41.17998</td>\n",
       "      <td>-73.19996</td>\n",
       "      <td>1018000</td>\n",
       "      <td>Northeast</td>\n",
       "    </tr>\n",
       "    <tr>\n",
       "      <th>2</th>\n",
       "      <td>Rochester</td>\n",
       "      <td>USA</td>\n",
       "      <td>43.17043</td>\n",
       "      <td>-77.61995</td>\n",
       "      <td>755000</td>\n",
       "      <td>Northeast</td>\n",
       "    </tr>\n",
       "    <tr>\n",
       "      <th>3</th>\n",
       "      <td>St. Paul</td>\n",
       "      <td>USA</td>\n",
       "      <td>44.94399</td>\n",
       "      <td>-93.08497</td>\n",
       "      <td>734854</td>\n",
       "      <td>Midwest</td>\n",
       "    </tr>\n",
       "    <tr>\n",
       "      <th>4</th>\n",
       "      <td>Billings</td>\n",
       "      <td>USA</td>\n",
       "      <td>45.78830</td>\n",
       "      <td>-108.54000</td>\n",
       "      <td>104552</td>\n",
       "      <td>West</td>\n",
       "    </tr>\n",
       "  </tbody>\n",
       "</table>\n",
       "</div>"
      ],
      "text/plain": [
       "             name sov_a3  latitude  longitude  pop_max     region\n",
       "0  San Bernardino    USA  34.12038 -117.30003  1745000       West\n",
       "1      Bridgeport    USA  41.17998  -73.19996  1018000  Northeast\n",
       "2       Rochester    USA  43.17043  -77.61995   755000  Northeast\n",
       "3        St. Paul    USA  44.94399  -93.08497   734854    Midwest\n",
       "4        Billings    USA  45.78830 -108.54000   104552       West"
      ]
     },
     "execution_count": 47,
     "metadata": {},
     "output_type": "execute_result"
    }
   ],
   "source": [
    "points4 = spatialcsv.Points(fp4, ['latitude', 'longitude'], tags=['name', 'pop_max'])\n",
    "points4.df.head()"
   ]
  },
  {
   "cell_type": "code",
   "execution_count": 9,
   "id": "3dff5d8a",
   "metadata": {},
   "outputs": [
    {
     "data": {
      "application/vnd.jupyter.widget-view+json": {
       "model_id": "02b07f18b28e44bb8d2531d6c48b3fb2",
       "version_major": 2,
       "version_minor": 0
      },
      "text/plain": [
       "Map(center=[20, 0], controls=(ZoomControl(options=['position', 'zoom_in_text', 'zoom_in_title', 'zoom_out_text…"
      ]
     },
     "metadata": {},
     "output_type": "display_data"
    }
   ],
   "source": [
    "data4 = points4.to_leafmap()\n",
    "m4.add_points_from_xy(data4, x='longitude', y='latitude')\n",
    "m4\n",
    "# Click on the location icon to see selected tags"
   ]
  },
  {
   "cell_type": "markdown",
   "id": "14afa59c",
   "metadata": {},
   "source": [
    "# Downloading updated csv"
   ]
  },
  {
   "cell_type": "code",
   "execution_count": 48,
   "id": "cf45c181",
   "metadata": {},
   "outputs": [],
   "source": [
    "#enter a filepath and uncomment to download one of the updated csvs\n",
    "\n",
    "#filepath = ''\n",
    "\n",
    "#points2.updated_csv(filepath)"
   ]
  }
 ],
 "metadata": {
  "kernelspec": {
   "display_name": "Python 3 (ipykernel)",
   "language": "python",
   "name": "python3"
  },
  "language_info": {
   "codemirror_mode": {
    "name": "ipython",
    "version": 3
   },
   "file_extension": ".py",
   "mimetype": "text/x-python",
   "name": "python",
   "nbconvert_exporter": "python",
   "pygments_lexer": "ipython3",
   "version": "3.10.10"
  },
  "vscode": {
   "interpreter": {
    "hash": "586ad1ed5c97141e2437e681efbf1ec0adcd17d830cf5af2ca3d2819e743e158"
   }
  }
 },
 "nbformat": 4,
 "nbformat_minor": 5
}
