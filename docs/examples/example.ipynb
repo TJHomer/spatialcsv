{
 "cells": [
  {
   "cell_type": "markdown",
   "id": "529f8f20",
   "metadata": {},
   "source": [
    "[![image](https://colab.research.google.com/assets/colab-badge.svg)](https://colab.research.google.com/github/TJHomer/spatialcsv/blob/main/docs/examples/example.ipynb)"
   ]
  },
  {
   "cell_type": "code",
   "execution_count": 1,
   "id": "4018da29",
   "metadata": {},
   "outputs": [],
   "source": [
    "# Uncomment to install\n",
    "#!pip install leafmap spatialcsv geopandas\n",
    "\n",
    "import leafmap\n",
    "import spatialcsv\n",
    "import requests\n",
    "import geopandas\n",
    "\n",
    "\n",
    "# This function will allow us to preview the csv before processing\n",
    "def preview(url):\n",
    "    response = requests.get(url)\n",
    "    for line in response.text.splitlines()[:4]:\n",
    "        print(line)\n",
    "    "
   ]
  },
  {
   "cell_type": "markdown",
   "id": "ef56e1ba",
   "metadata": {},
   "source": [
    "This package takes csv files and standardizes them for web mapping.\n",
    "It will automatically change coordidantes from degree,minute format to decimal.\n",
    "\n",
    "If using streamlit, it will change the column headers to what streamlit uses, and remove any empty coordinate fields (which causes streamlit to error out).\n",
    "To view in streamlit, go to https://spatialcsv.streamlit.app/\n",
    "\n",
    "If using leafmap, you can add the following arguments:\n",
    "* tags = [ ] \n",
    "    Will select what columns are included in the pin popup\n",
    "* epsg = '####' \n",
    "    Will reproject from given crs to lat/long coordinates\n",
    "\n",
    "If you don't want to use a web map, but only want to convert all the coordinates, there is also a function `updated_csv()` that will export it back to an csv file."
   ]
  },
  {
   "cell_type": "markdown",
   "id": "9067258d",
   "metadata": {},
   "source": [
    "# Basic Example"
   ]
  },
  {
   "cell_type": "code",
   "execution_count": null,
   "id": "7a685e4b",
   "metadata": {},
   "outputs": [],
   "source": [
    "m1 = leafmap.Map()\n",
    "fp1 = 'https://github.com/TJHomer/spatialcsv/raw/main/spatialcsv/example_files/test.csv'\n",
    "preview(fp1)"
   ]
  },
  {
   "cell_type": "code",
   "execution_count": null,
   "id": "8ecbd110",
   "metadata": {},
   "outputs": [],
   "source": [
    "points1 = spatialcsv.Points(fp1, ['lat', 'long'])\n",
    "points1.df.head()"
   ]
  },
  {
   "cell_type": "code",
   "execution_count": null,
   "id": "92ccc4b9",
   "metadata": {},
   "outputs": [],
   "source": [
    "data1 = points1.to_leafmap()\n",
    "m1.add_points_from_xy(data1, x='long', y='lat')\n",
    "m1"
   ]
  },
  {
   "cell_type": "markdown",
   "id": "7ddc527c",
   "metadata": {},
   "source": [
    "# Example changing from degree to decimal format"
   ]
  },
  {
   "cell_type": "code",
   "execution_count": null,
   "id": "61b626cc",
   "metadata": {},
   "outputs": [],
   "source": [
    "m2 = leafmap.Map()\n",
    "fp2 = 'https://github.com/TJHomer/spatialcsv/raw/main/spatialcsv/example_files/dms.csv'\n",
    "preview(fp2)"
   ]
  },
  {
   "cell_type": "code",
   "execution_count": null,
   "id": "a5c9b03e",
   "metadata": {},
   "outputs": [],
   "source": [
    "points2 = spatialcsv.Points(fp2, ['lat', 'long'])\n",
    "points2.df.head()"
   ]
  },
  {
   "cell_type": "code",
   "execution_count": null,
   "id": "79224c64",
   "metadata": {},
   "outputs": [],
   "source": [
    "data2 = points2.to_leafmap()\n",
    "m2.add_points_from_xy(data2, x='long', y='lat')\n",
    "m2"
   ]
  },
  {
   "cell_type": "markdown",
   "id": "683ca074",
   "metadata": {},
   "source": [
    "# Example changing projection"
   ]
  },
  {
   "cell_type": "code",
   "execution_count": null,
   "id": "4eb9e195",
   "metadata": {},
   "outputs": [],
   "source": [
    "m3 = leafmap.Map()\n",
    "fp3 = 'https://github.com/TJHomer/spatialcsv/raw/main/spatialcsv/example_files/projected_2274.csv'\n",
    "preview(fp3)"
   ]
  },
  {
   "cell_type": "code",
   "execution_count": null,
   "id": "9fd75c00",
   "metadata": {
    "scrolled": true
   },
   "outputs": [],
   "source": [
    "points3 = spatialcsv.Points(fp3, ['X', 'Y'], epsg='2274')\n",
    "points3.df.head()"
   ]
  },
  {
   "cell_type": "code",
   "execution_count": null,
   "id": "25fa0478",
   "metadata": {},
   "outputs": [],
   "source": [
    "data3 = points3.to_leafmap()\n",
    "m3.add_points_from_xy(data3, x='Y', y='X')\n",
    "m3"
   ]
  },
  {
   "cell_type": "markdown",
   "id": "c4a594f9",
   "metadata": {},
   "source": [
    "# Example assigning tags"
   ]
  },
  {
   "cell_type": "code",
   "execution_count": 2,
   "id": "e300a969",
   "metadata": {},
   "outputs": [
    {
     "name": "stdout",
     "output_type": "stream",
     "text": [
      "name,sov_a3,latitude,longitude,pop_max,region\n",
      "San Bernardino,USA,34.12038,-117.30003,1745000,West\n",
      "Bridgeport,USA,41.17998,-73.19996,1018000,Northeast\n",
      "Rochester,USA,43.17043,-77.61995,755000,Northeast\n"
     ]
    }
   ],
   "source": [
    "m4 = leafmap.Map()\n",
    "fp4 = 'https://github.com/TJHomer/spatialcsv/raw/main/spatialcsv/example_files/tags.csv'\n",
    "preview(fp4)"
   ]
  },
  {
   "cell_type": "code",
   "execution_count": 3,
   "id": "85388eca",
   "metadata": {},
   "outputs": [
    {
     "data": {
      "text/html": [
       "<div>\n",
       "<style scoped>\n",
       "    .dataframe tbody tr th:only-of-type {\n",
       "        vertical-align: middle;\n",
       "    }\n",
       "\n",
       "    .dataframe tbody tr th {\n",
       "        vertical-align: top;\n",
       "    }\n",
       "\n",
       "    .dataframe thead th {\n",
       "        text-align: right;\n",
       "    }\n",
       "</style>\n",
       "<table border=\"1\" class=\"dataframe\">\n",
       "  <thead>\n",
       "    <tr style=\"text-align: right;\">\n",
       "      <th></th>\n",
       "      <th>name</th>\n",
       "      <th>sov_a3</th>\n",
       "      <th>latitude</th>\n",
       "      <th>longitude</th>\n",
       "      <th>pop_max</th>\n",
       "      <th>region</th>\n",
       "    </tr>\n",
       "  </thead>\n",
       "  <tbody>\n",
       "    <tr>\n",
       "      <th>0</th>\n",
       "      <td>San Bernardino</td>\n",
       "      <td>USA</td>\n",
       "      <td>34.12038</td>\n",
       "      <td>-117.30003</td>\n",
       "      <td>1745000</td>\n",
       "      <td>West</td>\n",
       "    </tr>\n",
       "    <tr>\n",
       "      <th>1</th>\n",
       "      <td>Bridgeport</td>\n",
       "      <td>USA</td>\n",
       "      <td>41.17998</td>\n",
       "      <td>-73.19996</td>\n",
       "      <td>1018000</td>\n",
       "      <td>Northeast</td>\n",
       "    </tr>\n",
       "    <tr>\n",
       "      <th>2</th>\n",
       "      <td>Rochester</td>\n",
       "      <td>USA</td>\n",
       "      <td>43.17043</td>\n",
       "      <td>-77.61995</td>\n",
       "      <td>755000</td>\n",
       "      <td>Northeast</td>\n",
       "    </tr>\n",
       "    <tr>\n",
       "      <th>3</th>\n",
       "      <td>St. Paul</td>\n",
       "      <td>USA</td>\n",
       "      <td>44.94399</td>\n",
       "      <td>-93.08497</td>\n",
       "      <td>734854</td>\n",
       "      <td>Midwest</td>\n",
       "    </tr>\n",
       "    <tr>\n",
       "      <th>4</th>\n",
       "      <td>Billings</td>\n",
       "      <td>USA</td>\n",
       "      <td>45.78830</td>\n",
       "      <td>-108.54000</td>\n",
       "      <td>104552</td>\n",
       "      <td>West</td>\n",
       "    </tr>\n",
       "  </tbody>\n",
       "</table>\n",
       "</div>"
      ],
      "text/plain": [
       "             name sov_a3  latitude  longitude  pop_max     region\n",
       "0  San Bernardino    USA  34.12038 -117.30003  1745000       West\n",
       "1      Bridgeport    USA  41.17998  -73.19996  1018000  Northeast\n",
       "2       Rochester    USA  43.17043  -77.61995   755000  Northeast\n",
       "3        St. Paul    USA  44.94399  -93.08497   734854    Midwest\n",
       "4        Billings    USA  45.78830 -108.54000   104552       West"
      ]
     },
     "execution_count": 3,
     "metadata": {},
     "output_type": "execute_result"
    }
   ],
   "source": [
    "points4 = spatialcsv.Points(fp4, ['latitude', 'longitude'], tags=['name', 'pop_max'])\n",
    "points4.df.head()"
   ]
  },
  {
   "cell_type": "code",
   "execution_count": 4,
   "id": "3dff5d8a",
   "metadata": {},
   "outputs": [
    {
     "data": {
      "application/vnd.jupyter.widget-view+json": {
       "model_id": "301f4c8478e141bd9767a44b23a63fb6",
       "version_major": 2,
       "version_minor": 0
      },
      "text/plain": [
       "Map(center=[20, 0], controls=(ZoomControl(options=['position', 'zoom_in_text', 'zoom_in_title', 'zoom_out_text…"
      ]
     },
     "metadata": {},
     "output_type": "display_data"
    }
   ],
   "source": [
    "data4 = points4.to_leafmap()\n",
    "m4.add_points_from_xy(data4, x='longitude', y='latitude')\n",
    "m4\n",
    "# Click on the location icon to see selected tags"
   ]
  },
  {
   "cell_type": "markdown",
   "id": "14afa59c",
   "metadata": {},
   "source": [
    "# Downloading updated csv"
   ]
  },
  {
   "cell_type": "code",
   "execution_count": 5,
   "id": "cf45c181",
   "metadata": {},
   "outputs": [
    {
     "ename": "NameError",
     "evalue": "name 'points2' is not defined",
     "output_type": "error",
     "traceback": [
      "\u001b[0;31m---------------------------------------------------------------------------\u001b[0m",
      "\u001b[0;31mNameError\u001b[0m                                 Traceback (most recent call last)",
      "Cell \u001b[0;32mIn[5], line 5\u001b[0m\n\u001b[1;32m      1\u001b[0m \u001b[38;5;66;03m#enter a filepath and uncomment to download one of the updated csvs\u001b[39;00m\n\u001b[1;32m      3\u001b[0m filepath \u001b[38;5;241m=\u001b[39m \u001b[38;5;124m'\u001b[39m\u001b[38;5;124mupdated.csv\u001b[39m\u001b[38;5;124m'\u001b[39m\n\u001b[0;32m----> 5\u001b[0m \u001b[43mpoints2\u001b[49m\u001b[38;5;241m.\u001b[39mupdated_csv(filepath)\n",
      "\u001b[0;31mNameError\u001b[0m: name 'points2' is not defined"
     ]
    }
   ],
   "source": [
    "#enter a filepath and uncomment to download one of the updated csvs\n",
    "\n",
    "filepath = 'updated.csv'\n",
    "\n",
    "points2.updated_csv(filepath)"
   ]
  },
  {
   "cell_type": "code",
   "execution_count": null,
   "id": "888cbe5b",
   "metadata": {},
   "outputs": [],
   "source": []
  }
 ],
 "metadata": {
  "kernelspec": {
   "display_name": "Python 3 (ipykernel)",
   "language": "python",
   "name": "python3"
  },
  "language_info": {
   "codemirror_mode": {
    "name": "ipython",
    "version": 3
   },
   "file_extension": ".py",
   "mimetype": "text/x-python",
   "name": "python",
   "nbconvert_exporter": "python",
   "pygments_lexer": "ipython3",
   "version": "3.11.3"
  },
  "vscode": {
   "interpreter": {
    "hash": "586ad1ed5c97141e2437e681efbf1ec0adcd17d830cf5af2ca3d2819e743e158"
   }
  }
 },
 "nbformat": 4,
 "nbformat_minor": 5
}
