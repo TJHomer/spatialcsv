{
 "cells": [
  {
   "cell_type": "markdown",
   "id": "529f8f20",
   "metadata": {},
   "source": [
    "[![image](https://colab.research.google.com/assets/colab-badge.svg)](https://colab.research.google.com/github/TJHomer/spatialcsv/blob/main/docs/examples/example.ipynb)"
   ]
  },
  {
   "cell_type": "code",
   "execution_count": 2,
   "id": "4018da29",
   "metadata": {},
   "outputs": [],
   "source": [
    "# Uncomment to install\n",
    "#!pip install leafmap spatialcsv geopandas\n",
    "\n",
    "import leafmap\n",
    "import spatialcsv\n",
    "import requests\n",
    "import geopandas\n",
    "\n",
    "\n",
    "# This function will allow us to preview the csv before processing\n",
    "def preview(url):\n",
    "    response = requests.get(url)\n",
    "    for line in response.text.splitlines()[:4]:\n",
    "        print(line)\n",
    "    "
   ]
  },
  {
   "cell_type": "markdown",
   "id": "ef56e1ba",
   "metadata": {},
   "source": [
    "This package takes csv files and standardizes them for web mapping.\n",
    "It will automatically change coordidantes from degree,minute format to decimal.\n",
    "\n",
    "If using streamlit, it will change the column headers to what streamlit uses, and remove any empty coordinate fields (which causes streamlit to error out).\n",
    "To view in streamlit, go to https://spatialcsv.streamlit.app/\n",
    "\n",
    "If using leafmap, you can add the following arguments:\n",
    "* tags = [ ] \n",
    "    Will select what columns are included in the pin popup\n",
    "* epsg = '####' \n",
    "    Will reproject from given crs to lat/long coordinates\n",
    "\n",
    "If you don't want to use a web map, but only want to convert all the coordinates, there is also a function `updated_csv()` that will export it back to an csv file."
   ]
  },
  {
   "cell_type": "markdown",
   "id": "9067258d",
   "metadata": {},
   "source": [
    "# Basic Example"
   ]
  },
  {
   "cell_type": "code",
   "execution_count": 3,
   "id": "7a685e4b",
   "metadata": {},
   "outputs": [],
   "source": [
    "m1 = leafmap.Map()\n",
    "fp1 = 'https://github.com/TJHomer/spatialcsv/raw/main/spatialcsv/example_files/test.csv'\n",
    "preview(fp1)"
   ]
  },
  {
   "cell_type": "code",
   "execution_count": null,
   "id": "8ecbd110",
   "metadata": {},
   "outputs": [],
   "source": [
    "points1 = spatialcsv.Points(fp1, ['lat', 'long'])\n",
    "points1.df.head()"
   ]
  },
  {
   "cell_type": "code",
   "execution_count": null,
   "id": "92ccc4b9",
   "metadata": {},
   "outputs": [],
   "source": [
    "data1 = points1.to_leafmap()\n",
    "m1.add_points_from_xy(data1, x='long', y='lat')\n",
    "m1"
   ]
  },
  {
   "cell_type": "markdown",
   "id": "7ddc527c",
   "metadata": {},
   "source": [
    "# Example changing from degree to decimal format"
   ]
  },
  {
   "cell_type": "code",
   "execution_count": null,
   "id": "61b626cc",
   "metadata": {},
   "outputs": [],
   "source": [
    "m2 = leafmap.Map()\n",
    "fp2 = 'https://github.com/TJHomer/spatialcsv/raw/main/spatialcsv/example_files/dms.csv'\n",
    "preview(fp2)"
   ]
  },
  {
   "cell_type": "code",
   "execution_count": null,
   "id": "a5c9b03e",
   "metadata": {},
   "outputs": [],
   "source": [
    "points2 = spatialcsv.Points(fp2, ['lat', 'long'])\n",
    "points2.df.head()"
   ]
  },
  {
   "cell_type": "code",
   "execution_count": null,
   "id": "79224c64",
   "metadata": {},
   "outputs": [],
   "source": [
    "data2 = points2.to_leafmap()\n",
    "m2.add_points_from_xy(data2, x='long', y='lat')\n",
    "m2"
   ]
  },
  {
   "cell_type": "markdown",
   "id": "683ca074",
   "metadata": {},
   "source": [
    "# Example changing projection"
   ]
  },
  {
   "cell_type": "code",
   "execution_count": null,
   "id": "4eb9e195",
   "metadata": {},
   "outputs": [],
   "source": [
    "m3 = leafmap.Map()\n",
    "fp3 = 'https://github.com/TJHomer/spatialcsv/raw/main/spatialcsv/example_files/projected_2274.csv'\n",
    "preview(fp3)"
   ]
  },
  {
   "cell_type": "code",
   "execution_count": null,
   "id": "9fd75c00",
   "metadata": {},
   "outputs": [],
   "source": [
    "points3 = spatialcsv.Points(fp3, ['X', 'Y'], epsg='2274')\n",
    "points3.df.head()"
   ]
  },
  {
   "cell_type": "code",
   "execution_count": null,
   "id": "25fa0478",
   "metadata": {},
   "outputs": [],
   "source": [
    "data3 = points3.to_leafmap()\n",
    "m3.add_points_from_xy(data3, x='Y', y='X')\n",
    "m3"
   ]
  },
  {
   "cell_type": "markdown",
   "id": "c4a594f9",
   "metadata": {},
   "source": [
    "# Example assigning tags"
   ]
  },
  {
   "cell_type": "code",
   "execution_count": null,
   "id": "e300a969",
   "metadata": {},
   "outputs": [],
   "source": [
    "m4 = leafmap.Map()\n",
    "fp4 = 'https://github.com/TJHomer/spatialcsv/raw/main/spatialcsv/example_files/tags.csv'\n",
    "preview(fp4)"
   ]
  },
  {
   "cell_type": "code",
   "execution_count": null,
   "id": "85388eca",
   "metadata": {},
   "outputs": [],
   "source": [
    "points4 = spatialcsv.Points(fp4, ['latitude', 'longitude'], tags=['name', 'pop_max'])\n",
    "points4.df.head()"
   ]
  },
  {
   "cell_type": "code",
   "execution_count": null,
   "id": "3dff5d8a",
   "metadata": {},
   "outputs": [],
   "source": [
    "data4 = points4.to_leafmap()\n",
    "m4.add_points_from_xy(data4, x='longitude', y='latitude')\n",
    "m4\n",
    "# Click on the location icon to see selected tags"
   ]
  },
  {
   "cell_type": "markdown",
   "id": "14afa59c",
   "metadata": {},
   "source": [
    "# Downloading updated csv"
   ]
  },
  {
   "cell_type": "code",
   "execution_count": null,
   "id": "cf45c181",
   "metadata": {},
   "outputs": [],
   "source": [
    "#enter a filepath and uncomment to download one of the updated csvs\n",
    "\n",
    "#filepath = ''\n",
    "\n",
    "#points2.updated_csv(filepath)"
   ]
  }
 ],
 "metadata": {
  "kernelspec": {
   "display_name": "Python 3 (ipykernel)",
   "language": "python",
   "name": "python3"
  },
  "language_info": {
   "codemirror_mode": {
    "name": "ipython",
    "version": 3
   },
   "file_extension": ".py",
   "mimetype": "text/x-python",
   "name": "python",
   "nbconvert_exporter": "python",
   "pygments_lexer": "ipython3",
   "version": "3.11.3"
  },
  "vscode": {
   "interpreter": {
    "hash": "586ad1ed5c97141e2437e681efbf1ec0adcd17d830cf5af2ca3d2819e743e158"
   }
  }
 },
 "nbformat": 4,
 "nbformat_minor": 5
}
