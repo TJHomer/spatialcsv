{
 "cells": [
  {
   "cell_type": "code",
   "execution_count": 1,
   "metadata": {},
   "outputs": [
    {
     "ename": "ModuleNotFoundError",
     "evalue": "No module named 'spatialcsv.spatialfolium'",
     "output_type": "error",
     "traceback": [
      "\u001b[0;31m---------------------------------------------------------------------------\u001b[0m",
      "\u001b[0;31mModuleNotFoundError\u001b[0m                       Traceback (most recent call last)",
      "Cell \u001b[0;32mIn[1], line 1\u001b[0m\n\u001b[0;32m----> 1\u001b[0m \u001b[39mimport\u001b[39;00m \u001b[39mspatialcsv\u001b[39;00m\u001b[39m.\u001b[39;00m\u001b[39mspatialfolium\u001b[39;00m \u001b[39mas\u001b[39;00m \u001b[39mspatialcsv\u001b[39;00m\n\u001b[1;32m      3\u001b[0m m \u001b[39m=\u001b[39m spatialcsv\u001b[39m.\u001b[39mMap()\n\u001b[1;32m      4\u001b[0m m\n",
      "\u001b[0;31mModuleNotFoundError\u001b[0m: No module named 'spatialcsv.spatialfolium'"
     ]
    }
   ],
   "source": [
    "import spatialcsv.spatialfolium as spatialcsv\n",
    "\n",
    "m = spatialcsv.Map()\n",
    "m"
   ]
  }
 ],
 "metadata": {
  "kernelspec": {
   "display_name": "Python 3",
   "language": "python",
   "name": "python3"
  },
  "language_info": {
   "codemirror_mode": {
    "name": "ipython",
    "version": 3
   },
   "file_extension": ".py",
   "mimetype": "text/x-python",
   "name": "python",
   "nbconvert_exporter": "python",
   "pygments_lexer": "ipython3",
   "version": "3.10.10"
  },
  "orig_nbformat": 4,
  "vscode": {
   "interpreter": {
    "hash": "e7370f93d1d0cde622a1f8e1c04877d8463912d04d973331ad4851f04de6915a"
   }
  }
 },
 "nbformat": 4,
 "nbformat_minor": 2
}
